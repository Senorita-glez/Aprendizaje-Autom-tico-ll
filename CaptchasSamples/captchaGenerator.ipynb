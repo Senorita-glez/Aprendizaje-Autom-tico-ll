{
 "cells": [
  {
   "cell_type": "code",
   "execution_count": 27,
   "metadata": {},
   "outputs": [
    {
     "name": "stderr",
     "output_type": "stream",
     "text": [
      "C:\\Users\\Daphne\\AppData\\Local\\Temp\\ipykernel_27984\\879357049.py:24: DeprecationWarning: textsize is deprecated and will be removed in Pillow 10 (2023-07-01). Use textbbox or textlength instead.\n",
      "  char_width, char_height = draw.textsize(captcha_text, font=font)\n"
     ]
    }
   ],
   "source": [
    "from PIL import Image, ImageDraw, ImageFont\n",
    "import random\n",
    "\n",
    "def generate_captcha_with_random_elements(number, num_elements):\n",
    "    # Dimensiones de la imagen\n",
    "    width = 200\n",
    "    height = 80\n",
    "    \n",
    "    # Crear una nueva imagen RGB con fondo aleatorio\n",
    "    background_color = (random.randint(0, 255), random.randint(0, 255), random.randint(0, 255))\n",
    "    image = Image.new(\"RGB\", (width, height), background_color)\n",
    "    draw = ImageDraw.Draw(image)\n",
    "    \n",
    "    # Generar una cadena de texto aleatoria de dígitos para el CAPTCHA\n",
    "    captcha_text = ''.join(random.choices('0123456789', k=6))\n",
    "    \n",
    "    # Tamaño máximo de fuente basado en la altura de la imagen\n",
    "    max_font_size = int(0.75 * height)\n",
    "    \n",
    "    # Fuente para los números\n",
    "    font = ImageFont.truetype(\"arial.ttf\", max_font_size)\n",
    "    \n",
    "    # Obtener las dimensiones de los caracteres\n",
    "    char_width, char_height = draw.textsize(captcha_text, font=font)\n",
    "    \n",
    "    # Reducir el tamaño de la fuente si los caracteres superan la altura de la imagen\n",
    "    while char_height > height:\n",
    "        max_font_size -= 1\n",
    "        font = ImageFont.truetype(\"arial.ttf\", max_font_size)\n",
    "        char_width, char_height = draw.textsize(captcha_text, font=font)\n",
    "    \n",
    "    # Centrar los caracteres en la imagen\n",
    "    x_offset = (width - char_width) / 2\n",
    "    y_offset = (height - char_height) / 2\n",
    "    \n",
    "    # Color aleatorio para los números\n",
    "    text_color = (random.randint(0, 255), random.randint(0, 255), random.randint(0, 255))\n",
    "    \n",
    "    # Dibujar los caracteres del CAPTCHA con color aleatorio\n",
    "    draw.text((x_offset, y_offset), captcha_text, fill=text_color, font=font)\n",
    "    \n",
    "    # Agregar líneas y figuras aleatorias con colores aleatorios\n",
    "    for _ in range(num_elements):\n",
    "        start_point = (random.randint(0, width), random.randint(0, height))\n",
    "        end_point = (random.randint(0, width), random.randint(0, height))\n",
    "        line_color = (random.randint(0, 255), random.randint(0, 255), random.randint(0, 255))\n",
    "        draw.line([start_point, end_point], fill=line_color, width=random.randint(1, 3))\n",
    "    \n",
    "    for _ in range(num_elements):\n",
    "        x1, y1 = random.randint(0, width), random.randint(0, height)\n",
    "        x2, y2 = random.randint(0, width), random.randint(0, height)\n",
    "        shape_color = (random.randint(0, 255), random.randint(0, 255), random.randint(0, 255))\n",
    "        draw.rectangle([x1, y1, x2, y2], outline=shape_color, width=random.randint(1, 3))\n",
    "    \n",
    "    # Guardar la imagen generada\n",
    "    file_name = f\"CaptchasSamples/captcha_with_random_elements{number}.png\"\n",
    "    image.save(file_name)\n",
    "\n",
    "# Llamar a la función para generar el CAPTCHA con elementos aleatorios\n",
    "generate_captcha_with_random_elements(1, 10)  # Ejemplo: Genera 10 líneas y 10 figuras aleatorias\n"
   ]
  },
  {
   "cell_type": "code",
   "execution_count": 32,
   "metadata": {},
   "outputs": [
    {
     "name": "stderr",
     "output_type": "stream",
     "text": [
      "C:\\Users\\Daphne\\AppData\\Local\\Temp\\ipykernel_27984\\879357049.py:24: DeprecationWarning: textsize is deprecated and will be removed in Pillow 10 (2023-07-01). Use textbbox or textlength instead.\n",
      "  char_width, char_height = draw.textsize(captcha_text, font=font)\n",
      "C:\\Users\\Daphne\\AppData\\Local\\Temp\\ipykernel_27984\\879357049.py:24: DeprecationWarning: textsize is deprecated and will be removed in Pillow 10 (2023-07-01). Use textbbox or textlength instead.\n",
      "  char_width, char_height = draw.textsize(captcha_text, font=font)\n",
      "C:\\Users\\Daphne\\AppData\\Local\\Temp\\ipykernel_27984\\879357049.py:24: DeprecationWarning: textsize is deprecated and will be removed in Pillow 10 (2023-07-01). Use textbbox or textlength instead.\n",
      "  char_width, char_height = draw.textsize(captcha_text, font=font)\n",
      "C:\\Users\\Daphne\\AppData\\Local\\Temp\\ipykernel_27984\\879357049.py:24: DeprecationWarning: textsize is deprecated and will be removed in Pillow 10 (2023-07-01). Use textbbox or textlength instead.\n",
      "  char_width, char_height = draw.textsize(captcha_text, font=font)\n",
      "C:\\Users\\Daphne\\AppData\\Local\\Temp\\ipykernel_27984\\879357049.py:24: DeprecationWarning: textsize is deprecated and will be removed in Pillow 10 (2023-07-01). Use textbbox or textlength instead.\n",
      "  char_width, char_height = draw.textsize(captcha_text, font=font)\n",
      "C:\\Users\\Daphne\\AppData\\Local\\Temp\\ipykernel_27984\\879357049.py:24: DeprecationWarning: textsize is deprecated and will be removed in Pillow 10 (2023-07-01). Use textbbox or textlength instead.\n",
      "  char_width, char_height = draw.textsize(captcha_text, font=font)\n",
      "C:\\Users\\Daphne\\AppData\\Local\\Temp\\ipykernel_27984\\879357049.py:24: DeprecationWarning: textsize is deprecated and will be removed in Pillow 10 (2023-07-01). Use textbbox or textlength instead.\n",
      "  char_width, char_height = draw.textsize(captcha_text, font=font)\n",
      "C:\\Users\\Daphne\\AppData\\Local\\Temp\\ipykernel_27984\\879357049.py:24: DeprecationWarning: textsize is deprecated and will be removed in Pillow 10 (2023-07-01). Use textbbox or textlength instead.\n",
      "  char_width, char_height = draw.textsize(captcha_text, font=font)\n",
      "C:\\Users\\Daphne\\AppData\\Local\\Temp\\ipykernel_27984\\879357049.py:24: DeprecationWarning: textsize is deprecated and will be removed in Pillow 10 (2023-07-01). Use textbbox or textlength instead.\n",
      "  char_width, char_height = draw.textsize(captcha_text, font=font)\n",
      "C:\\Users\\Daphne\\AppData\\Local\\Temp\\ipykernel_27984\\879357049.py:24: DeprecationWarning: textsize is deprecated and will be removed in Pillow 10 (2023-07-01). Use textbbox or textlength instead.\n",
      "  char_width, char_height = draw.textsize(captcha_text, font=font)\n"
     ]
    }
   ],
   "source": [
    "for i in range(10):\n",
    "    generate_captcha_with_random_elements(i, 3)"
   ]
  }
 ],
 "metadata": {
  "kernelspec": {
   "display_name": "Python 3",
   "language": "python",
   "name": "python3"
  },
  "language_info": {
   "codemirror_mode": {
    "name": "ipython",
    "version": 3
   },
   "file_extension": ".py",
   "mimetype": "text/x-python",
   "name": "python",
   "nbconvert_exporter": "python",
   "pygments_lexer": "ipython3",
   "version": "3.11.3"
  }
 },
 "nbformat": 4,
 "nbformat_minor": 2
}
