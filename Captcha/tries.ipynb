{
 "cells": [
  {
   "cell_type": "code",
   "execution_count": 52,
   "metadata": {},
   "outputs": [
    {
     "name": "stdout",
     "output_type": "stream",
     "text": [
      "Umbralización dinámica y guardado completados.\n"
     ]
    }
   ],
   "source": [
    "import os\n",
    "import cv2\n",
    "import numpy as np\n",
    "from tensorflow.keras.preprocessing import image\n",
    "\n",
    "# Ruta de la carpeta de imágenes de entrada\n",
    "carpeta_entrada = './data/train'\n",
    "\n",
    "# Ruta de la carpeta de salida para las imágenes umbralizadas\n",
    "carpeta_salida = './dataModified/train'\n",
    "\n",
    "# Crear la carpeta de salida si no existe\n",
    "if not os.path.exists(carpeta_salida):\n",
    "    os.makedirs(carpeta_salida)\n",
    "\n",
    "# Obtener la lista de archivos en la carpeta de entrada\n",
    "archivos_imagenes = os.listdir(carpeta_entrada)\n",
    "\n",
    "\n",
    "for imagen_nombre in archivos_imagenes:\n",
    "    # Construir la ruta completa de la imagen de entrada\n",
    "    ruta_imagen_entrada = os.path.join(carpeta_entrada, imagen_nombre)\n",
    "\n",
    "    kernel = np.ones((2,2),np.uint8)\n",
    "    # Leer la imagen en escala de grises\n",
    "    img = cv2.imread(ruta_imagen_entrada)\n",
    "    img = cv2.subtract(img, np.ones(img.shape, dtype=np.uint8) * 50)\n",
    "    #img = cv2.cvtColor(img, cv2.COLOR_BGR2GRAY)\n",
    "    img = cv2.GaussianBlur(img, (5, 5), 0)\n",
    "    img = cv2.Canny(img, 10, 100)\n",
    "    img = cv2.morphologyEx(img, cv2.MORPH_CLOSE, kernel)\n",
    "    VEC = image.img_to_array(img)\n",
    "    #_, img = cv2.threshold(img, 128, 255, cv2.THRESH_BINARY)\n",
    "    '''alpha = 1  # factor de contraste\n",
    "    adjusted_image = cv2.convertScaleAbs(imagen_grises, alpha=alpha, beta=0)'''\n",
    "    #adjusted_image = cv2.cvtColor(adjusted_image, cv2.COLOR_BGR2GRAY)\n",
    "    #adjusted_image = cv2.cvtColor(adjusted_image, cv2.COLOR_BGR2GRAY)\n",
    "    # Construir la ruta completa para la imagen umbralizada\n",
    "    nombre_imagen_umbralizada = imagen_nombre.split('.')[0] + '_umbralizada.jpg'\n",
    "    ruta_imagen_umbralizada = os.path.join(carpeta_salida, nombre_imagen_umbralizada)\n",
    "\n",
    "    # Guardar la imagen umbralizada\n",
    "    cv2.imwrite(ruta_imagen_umbralizada, img)\n",
    "\n",
    "print(\"Umbralización dinámica y guardado completados.\")\n"
   ]
  },
  {
   "cell_type": "code",
   "execution_count": 46,
   "metadata": {},
   "outputs": [
    {
     "ename": "ModuleNotFoundError",
     "evalue": "No module named 'captcha'",
     "output_type": "error",
     "traceback": [
      "\u001b[1;31m---------------------------------------------------------------------------\u001b[0m",
      "\u001b[1;31mModuleNotFoundError\u001b[0m                       Traceback (most recent call last)",
      "Cell \u001b[1;32mIn[46], line 7\u001b[0m\n\u001b[0;32m      5\u001b[0m \u001b[38;5;28;01mfrom\u001b[39;00m \u001b[38;5;21;01mtensorflow\u001b[39;00m\u001b[38;5;21;01m.\u001b[39;00m\u001b[38;5;21;01mkeras\u001b[39;00m\u001b[38;5;21;01m.\u001b[39;00m\u001b[38;5;21;01mpreprocessing\u001b[39;00m \u001b[38;5;28;01mimport\u001b[39;00m image\n\u001b[0;32m      6\u001b[0m \u001b[38;5;28;01mfrom\u001b[39;00m \u001b[38;5;21;01msklearn\u001b[39;00m\u001b[38;5;21;01m.\u001b[39;00m\u001b[38;5;21;01mmodel_selection\u001b[39;00m \u001b[38;5;28;01mimport\u001b[39;00m train_test_split\n\u001b[1;32m----> 7\u001b[0m \u001b[38;5;28;01mfrom\u001b[39;00m \u001b[38;5;21;01mcaptcha\u001b[39;00m\u001b[38;5;21;01m.\u001b[39;00m\u001b[38;5;21;01mimage\u001b[39;00m \u001b[38;5;28;01mimport\u001b[39;00m ImageCaptcha  \u001b[38;5;66;03m# Asegúrate de tener instalada esta librería\u001b[39;00m\n\u001b[0;32m      9\u001b[0m \u001b[38;5;66;03m# Generar un conjunto de datos de ejemplos de captcha\u001b[39;00m\n\u001b[0;32m     10\u001b[0m \u001b[38;5;28;01mdef\u001b[39;00m \u001b[38;5;21mgenerate_captcha_data\u001b[39m(num_samples\u001b[38;5;241m=\u001b[39m\u001b[38;5;241m10000\u001b[39m):\n",
      "\u001b[1;31mModuleNotFoundError\u001b[0m: No module named 'captcha'"
     ]
    }
   ],
   "source": [
    "# Importar bibliotecas necesarias\n",
    "import numpy as np\n",
    "import tensorflow as tf\n",
    "from tensorflow.keras import layers, models\n",
    "from tensorflow.keras.preprocessing import image\n",
    "from sklearn.model_selection import train_test_split\n",
    "from captcha.image import ImageCaptcha  # Asegúrate de tener instalada esta librería\n",
    "\n",
    "# Generar un conjunto de datos de ejemplos de captcha\n",
    "def vectorizacion():\n",
    "    X, y = [], []\n",
    "    for _ in range(num_samples):\n",
    "        # Generar un captcha aleatorio\n",
    "        captcha_text = ''.join(np.random.choice(list('0123456789')) for _ in range(6))\n",
    "        image_data = ImageCaptcha().generate_image(captcha_text)\n",
    "        image_array = image.img_to_array(image_data) / 255.0  # Normalizar los valores de píxeles\n",
    "        X.append(image_array)\n",
    "        y.append([int(digit) for digit in captcha_text])\n",
    "\n",
    "    return np.array(X), np.array(y)\n",
    "\n",
    "# Crear el modelo CNN\n",
    "def create_cnn_model(input_shape=(50, 200, 3), num_classes=10):\n",
    "    model = models.Sequential()\n",
    "\n",
    "    # Capas convolucionales y de pooling\n",
    "    model.add(layers.Conv2D(32, (3, 3), activation='relu', input_shape=input_shape))\n",
    "    model.add(layers.MaxPooling2D((2, 2)))\n",
    "    model.add(layers.Conv2D(64, (3, 3), activation='relu'))\n",
    "    model.add(layers.MaxPooling2D((2, 2)))\n",
    "    model.add(layers.Conv2D(128, (3, 3), activation='relu'))\n",
    "    model.add(layers.MaxPooling2D((2, 2)))\n",
    "\n",
    "    # Capa densa para la clasificación\n",
    "    model.add(layers.Flatten())\n",
    "    model.add(layers.Dense(128, activation='relu'))\n",
    "    model.add(layers.Dropout(0.5))\n",
    "    model.add(layers.Dense(num_classes, activation='softmax'))\n",
    "\n",
    "    # Compilar el modelo\n",
    "    model.compile(optimizer='adam', loss='categorical_crossentropy', metrics=['accuracy'])\n",
    "\n",
    "    return model\n",
    "\n",
    "# Obtener los datos de entrenamiento y prueba\n",
    "X, y = generate_captcha_data()\n",
    "X_train, X_test, y_train, y_test = train_test_split(X, y, test_size=0.2, random_state=42)\n",
    "\n",
    "# Crear el modelo\n",
    "model = create_cnn_model(input_shape=X_train.shape[1:], num_classes=10)\n",
    "\n",
    "# Entrenar el modelo\n",
    "model.fit(X_train, y_train, epochs=10, batch_size=32, validation_split=0.2)\n",
    "\n",
    "# Evaluar el modelo\n",
    "accuracy = model.evaluate(X_test, y_test)\n",
    "print(f'Accuracy: {accuracy[1]}')\n"
   ]
  },
  {
   "cell_type": "code",
   "execution_count": null,
   "metadata": {},
   "outputs": [],
   "source": []
  }
 ],
 "metadata": {
  "kernelspec": {
   "display_name": "Python 3",
   "language": "python",
   "name": "python3"
  },
  "language_info": {
   "codemirror_mode": {
    "name": "ipython",
    "version": 3
   },
   "file_extension": ".py",
   "mimetype": "text/x-python",
   "name": "python",
   "nbconvert_exporter": "python",
   "pygments_lexer": "ipython3",
   "version": "3.11.3"
  }
 },
 "nbformat": 4,
 "nbformat_minor": 2
}
