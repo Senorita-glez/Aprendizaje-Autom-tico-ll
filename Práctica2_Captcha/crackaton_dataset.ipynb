{
 "cells": [
  {
   "cell_type": "code",
   "execution_count": 12,
   "metadata": {},
   "outputs": [],
   "source": [
    "import matplotlib.pyplot as plt\n",
    "import numpy as np\n",
    "import tensorflow as tf\n",
    "from PIL import Image\n",
    "import random, math, re, time, os, cv2, shutil, pandas"
   ]
  },
  {
   "cell_type": "code",
   "execution_count": 13,
   "metadata": {},
   "outputs": [],
   "source": [
    "NUM_COLUMNAS = 200 # 200 siempre\n",
    "NUM_TROZOS = 6\n",
    "IMG_SIZE = 64"
   ]
  },
  {
   "cell_type": "code",
   "execution_count": 15,
   "metadata": {},
   "outputs": [
    {
     "data": {
      "text/plain": [
       "\"for i in range(10): # 0 -> 9\\n    os.mkdir(f'{training_directory}/{i}')\\n    os.mkdir(f'{validation_directory}/{i}')\\n    os.mkdir(f'{testing_directory}/{i}')\\n\\nfor i in ['a','e','u']:\\n    os.mkdir(f'{training_directory}/{i}')\\n    os.mkdir(f'{validation_directory}/{i}')\\n    os.mkdir(f'{testing_directory}/{i}')\""
      ]
     },
     "execution_count": 15,
     "metadata": {},
     "output_type": "execute_result"
    }
   ],
   "source": [
    "# Crear carpetas de las clases (dígitos)\n",
    "\n",
    "training_directory = 'NEW-DATASET/Training'\n",
    "validation_directory = 'NEW-DATASET/Validation'\n",
    "testing_directory = 'NEW-DATASET/Testing'\n",
    " \n",
    "\"\"\"for i in range(10): # 0 -> 9\n",
    "    os.mkdir(f'{training_directory}/{i}')\n",
    "    os.mkdir(f'{validation_directory}/{i}')\n",
    "    os.mkdir(f'{testing_directory}/{i}')\n",
    "\n",
    "for i in ['a','e','u']:\n",
    "    os.mkdir(f'{training_directory}/{i}')\n",
    "    os.mkdir(f'{validation_directory}/{i}')\n",
    "    os.mkdir(f'{testing_directory}/{i}')\"\"\""
   ]
  },
  {
   "cell_type": "markdown",
   "metadata": {},
   "source": [
    "# Mover GENÉRICO V3"
   ]
  },
  {
   "cell_type": "code",
   "execution_count": 16,
   "metadata": {},
   "outputs": [],
   "source": [
    "archivoCSV1 = pandas.read_csv(filepath_or_buffer='train.csv', sep=',')\n",
    "archivoCSV2 = pandas.read_csv(filepath_or_buffer='validation.csv', sep=',')\n",
    "\n",
    "def trocear_labelV3(csv_file: str, index: int): # 'file.csv'\n",
    "    if 'train' in csv_file:\n",
    "        LABEL = archivoCSV1.iloc[index]['Label']\n",
    "    else:\n",
    "        LABEL = archivoCSV2.iloc[index]['Label']\n",
    "    return [d for d in str(LABEL)]"
   ]
  },
  {
   "cell_type": "code",
   "execution_count": 17,
   "metadata": {},
   "outputs": [],
   "source": [
    "def trocear_el_sushiV3(imagen: np.ndarray, num_trozos: int):\n",
    "    lista_de_trocitos = []\n",
    "    offset = int(NUM_COLUMNAS/num_trozos) # 200/6 = 33\n",
    "    for trozo in range(num_trozos): \n",
    "        trozo_imagen = imagen[15:, trozo*offset:(trozo+1)*offset]\n",
    "        trozo_imagen = Image.fromarray(trozo_imagen)\n",
    "        trozo_imagen = trozo_imagen.resize(size=(IMG_SIZE,IMG_SIZE))\n",
    "        trozo_imagen = np.array(trozo_imagen)\n",
    "        lista_de_trocitos.append(trozo_imagen)\n",
    "    return lista_de_trocitos"
   ]
  },
  {
   "cell_type": "code",
   "execution_count": 18,
   "metadata": {},
   "outputs": [],
   "source": [
    "def repartir_trozos_a_carpetasV3(labels: list[int], trozos: list[np.ndarray], index_mega_lista: int, ruta: str, origin_directory: str):\n",
    "    if origin_directory == 'train':\n",
    "        marca = 'T'\n",
    "    else: # 'validation'\n",
    "        marca = 'V'\n",
    "    for index, digito in enumerate(labels): # ej: [0, 2, 4, 7, 0, 6]\n",
    "        trozos[index] = Image.fromarray(trozos[index]).save(f'{ruta}/{digito}/captcha{marca}_{index_mega_lista}_digito_nº{index+1}.png') "
   ]
  },
  {
   "cell_type": "code",
   "execution_count": 19,
   "metadata": {},
   "outputs": [],
   "source": [
    "def repartir_captchasV3(destination_directory: str, csv_file: str, origin_directory: str):\n",
    "    for index, imagen in enumerate(os.listdir(origin_directory)):\n",
    "        imagen = np.array(Image.open(f'{origin_directory}/{imagen}').resize((200,80)))\n",
    "\n",
    "        label_troceado = trocear_labelV3(csv_file, index)\n",
    "        label_troceado = [0] * (6-len(label_troceado)) + label_troceado\n",
    "        imagen_troceada = trocear_el_sushiV3(imagen, NUM_TROZOS)\n",
    "\n",
    "        # print(index, label_troceado)\n",
    "\n",
    "        repartir_trozos_a_carpetasV3(labels=label_troceado, trozos=imagen_troceada, index_mega_lista=index, ruta=destination_directory, origin_directory=origin_directory)\n",
    "        # if index==2:\n",
    "        #     break"
   ]
  },
  {
   "cell_type": "code",
   "execution_count": 20,
   "metadata": {},
   "outputs": [],
   "source": [
    "repartir_captchasV3(destination_directory=training_directory, csv_file='train.csv', origin_directory='train')\n",
    "repartir_captchasV3(destination_directory=training_directory, csv_file='validation.csv', origin_directory='validation')"
   ]
  },
  {
   "cell_type": "markdown",
   "metadata": {},
   "source": [
    "# Borrar todo el datset"
   ]
  },
  {
   "cell_type": "code",
   "execution_count": 33,
   "metadata": {},
   "outputs": [],
   "source": [
    "ruta_destino = 'NEW-DATASET/Training'\n",
    "for carpeta in os.listdir(ruta_destino):\n",
    "    for imagen in os.listdir(f'{ruta_destino}/{carpeta}'):\n",
    "        os.remove(f'{ruta_destino}/{carpeta}/{imagen}')"
   ]
  },
  {
   "cell_type": "markdown",
   "metadata": {},
   "source": [
    "# Mover de Train a Val y Test y viceversa"
   ]
  },
  {
   "cell_type": "code",
   "execution_count": 21,
   "metadata": {},
   "outputs": [
    {
     "name": "stdout",
     "output_type": "stream",
     "text": [
      "TODO MOVIDO A VALIDATION y TESTING\n"
     ]
    }
   ],
   "source": [
    "directorio = \"NEW-DATASET\"\n",
    "\n",
    "dir_train = f\"{directorio}/Training\"\n",
    "dir_val = f\"{directorio}/Validation\"\n",
    "dir_test = f\"{directorio}/Testing\"\n",
    "\n",
    "lista_clases_train = os.listdir(dir_train)\n",
    "lista_clases_val = os.listdir(dir_val)\n",
    "lista_clases_test = os.listdir(dir_test)\n",
    "#--------------------------------MOVER TODAS LAS FOTOS DE TESTING Y VALIDATION A TRAINING--------------------------------#\n",
    "for i in range(len(lista_clases_train)):\n",
    "    nombres_fotos_test = os.listdir(f'{dir_test}/{lista_clases_test[i]}')\n",
    "    nombres_fotos_val = os.listdir(f'{dir_val}/{lista_clases_test[i]}')\n",
    "    for foto_a_mover in nombres_fotos_test:\n",
    "        shutil.move(src=f'{dir_test}/{lista_clases_test[i]}/{foto_a_mover}', dst=f'{dir_train}/{lista_clases_train[i]}')\n",
    "    for foto_a_mover in nombres_fotos_val:\n",
    "        shutil.move(src=f'{dir_val}/{lista_clases_test[i]}/{foto_a_mover}', dst=f'{dir_train}/{lista_clases_train[i]}')\n",
    "print('TODO MOVIDO A TRAINING')\n",
    "#--------------------------------MOVER TODAS LAS FOTOS DE TESTING Y VALIDATION A TRAINING--------------------------------#\n",
    "\n",
    "#--------------------------------MOVER 10% FOTOS A TESTING Y 20% A VALIDATION--------------------------------#\n",
    "for digito in lista_clases_train:\n",
    "    nombres_fotos = os.listdir(f'{dir_train}/{digito}')\n",
    "    cantidad_fotos_digito = len(nombres_fotos)\n",
    "\n",
    "    diezmo = int(cantidad_fotos_digito * 0.1)\n",
    "    diezmoX2 = int(cantidad_fotos_digito * 0.2)\n",
    "\n",
    "    for i in range(diezmoX2): # para validación\n",
    "        nombre_a_mover = nombres_fotos.pop(random.randrange(len(nombres_fotos))) \n",
    "        shutil.move(f'{dir_train}/{digito}/{nombre_a_mover}', f'{dir_val}/{digito}')\n",
    "    for i in range(diezmo): # para test\n",
    "        nombre_a_mover = nombres_fotos.pop(random.randrange(len(nombres_fotos))) \n",
    "        shutil.move(f'{dir_train}/{digito}/{nombre_a_mover}', f'{dir_test}/{digito}')\n",
    "print('TODO MOVIDO A VALIDATION y TESTING')\n",
    "#--------------------------------MOVER 10% FOTOS A TESTING Y 20% A VALIDATION--------------------------------#\n",
    "# todo en menos de 20\" "
   ]
  }
 ],
 "metadata": {
  "kernelspec": {
   "display_name": "base",
   "language": "python",
   "name": "python3"
  },
  "language_info": {
   "codemirror_mode": {
    "name": "ipython",
    "version": 3
   },
   "file_extension": ".py",
   "mimetype": "text/x-python",
   "name": "python",
   "nbconvert_exporter": "python",
   "pygments_lexer": "ipython3",
   "version": "3.10.13"
  }
 },
 "nbformat": 4,
 "nbformat_minor": 2
}
