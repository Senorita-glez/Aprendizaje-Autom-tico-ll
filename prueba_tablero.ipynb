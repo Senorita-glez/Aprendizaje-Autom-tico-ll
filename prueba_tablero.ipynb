{
 "cells": [
  {
   "cell_type": "code",
   "execution_count": 2,
   "metadata": {},
   "outputs": [
    {
     "name": "stdout",
     "output_type": "stream",
     "text": [
      "[[ 0.  0.  1.  0.]\n",
      " [ 0. -1.  1.  0.]\n",
      " [-3.  1. -1.  0.]\n",
      " [ 0. -2.  0.  0.]]\n"
     ]
    }
   ],
   "source": [
    "import numpy as np\n",
    "\n",
    "def calcular_coeficiente_de_peligro(tablero, jugador):\n",
    "    # Asumiendo que tablero es una matriz de NxN donde:\n",
    "    # 0 representa una casilla vacía\n",
    "    # 1 representa una ficha del jugador 1\n",
    "    # 2 representa una ficha del jugador 2\n",
    "    \n",
    "    n = len(tablero)\n",
    "    coeficiente_de_peligro = np.zeros((n, n))\n",
    "    \n",
    "    # Define los coeficientes\n",
    "    coef_amigo = 1  # Coeficiente para una ficha amiga\n",
    "    coef_enemigo = -1  # Coeficiente para una ficha enemiga\n",
    "    \n",
    "    # Asigna el coeficiente de acuerdo al jugador\n",
    "    if jugador == 1:\n",
    "        amigo = 1\n",
    "        enemigo = 2\n",
    "    else:\n",
    "        amigo = 2\n",
    "        enemigo = 1\n",
    "    \n",
    "    # Función auxiliar para calcular el coeficiente de una casilla\n",
    "    def coeficiente_casilla(x, y):\n",
    "        coef = 0\n",
    "        # Coordenadas de los movimientos posibles (arriba, abajo, izquierda, derecha)\n",
    "        movimientos = [(-1, 0), (1, 0), (0, -1), (0, 1)]\n",
    "        for dx, dy in movimientos:\n",
    "            nx, ny = x + dx, y + dy\n",
    "            if 0 <= nx < n and 0 <= ny < n:  # Verifica que las coordenadas estén dentro del tablero\n",
    "                if tablero[nx][ny] == amigo:\n",
    "                    coef += coef_amigo\n",
    "                elif tablero[nx][ny] == enemigo:\n",
    "                    coef += coef_enemigo\n",
    "        return coef\n",
    "    \n",
    "    # Calcula el coeficiente de peligro para cada casilla del tablero\n",
    "    for i in range(n):\n",
    "        for j in range(n):\n",
    "            coeficiente_de_peligro[i][j] = coeficiente_casilla(i, j)\n",
    "    \n",
    "    # Normaliza los coeficientes a un rango de -4 a +4\n",
    "    coeficiente_de_peligro = np.clip(coeficiente_de_peligro, -4, 4)\n",
    "    \n",
    "    return coeficiente_de_peligro\n",
    "\n",
    "# Ejemplo de uso\n",
    "tablero = [\n",
    "    [0, 1, 0, 0],\n",
    "    [2, 0, 0, 0],\n",
    "    [0, 2, 1, 0],\n",
    "    [2, 0, 0, 2]\n",
    "]\n",
    "\n",
    "jugador = 1\n",
    "coef_peligro = calcular_coeficiente_de_peligro(tablero, jugador)\n",
    "print(coef_peligro)\n"
   ]
  },
  {
   "cell_type": "code",
   "execution_count": 3,
   "metadata": {},
   "outputs": [
    {
     "name": "stdout",
     "output_type": "stream",
     "text": [
      "[[0 'O' 1 0]\n",
      " ['X' -1 1 0]\n",
      " [-3 'X' 'O' 0]\n",
      " ['X' -2 0 'X']]\n"
     ]
    }
   ],
   "source": [
    "import numpy as np\n",
    "\n",
    "def calcular_coeficiente_de_peligro(tablero, jugador):\n",
    "    # Asumiendo que tablero es una matriz de NxN donde:\n",
    "    # 0 representa una casilla vacía\n",
    "    # 1 representa una ficha del jugador 1\n",
    "    # 2 representa una ficha del jugador 2\n",
    "    \n",
    "    n = len(tablero)\n",
    "    coeficiente_de_peligro = np.zeros((n, n), dtype=object)\n",
    "    \n",
    "    # Define los coeficientes\n",
    "    coef_amigo = 1  # Coeficiente para una ficha amiga\n",
    "    coef_enemigo = -1  # Coeficiente para una ficha enemiga\n",
    "    \n",
    "    # Asigna el coeficiente de acuerdo al jugador\n",
    "    if jugador == 1:\n",
    "        amigo = 1\n",
    "        enemigo = 2\n",
    "    else:\n",
    "        amigo = 2\n",
    "        enemigo = 1\n",
    "    \n",
    "    # Función auxiliar para calcular el coeficiente de una casilla\n",
    "    def coeficiente_casilla(x, y):\n",
    "        coef = 0\n",
    "        # Coordenadas de los movimientos posibles (arriba, abajo, izquierda, derecha)\n",
    "        movimientos = [(-1, 0), (1, 0), (0, -1), (0, 1)]\n",
    "        for dx, dy in movimientos:\n",
    "            nx, ny = x + dx, y + dy\n",
    "            if 0 <= nx < n and 0 <= ny < n:  # Verifica que las coordenadas estén dentro del tablero\n",
    "                if tablero[nx][ny] == amigo:\n",
    "                    coef += coef_amigo\n",
    "                elif tablero[nx][ny] == enemigo:\n",
    "                    coef += coef_enemigo\n",
    "        return coef\n",
    "    \n",
    "    # Calcula el coeficiente de peligro para cada casilla del tablero\n",
    "    for i in range(n):\n",
    "        for j in range(n):\n",
    "            if tablero[i][j] == 1:\n",
    "                coeficiente_de_peligro[i][j] = 'O'\n",
    "            elif tablero[i][j] == 2:\n",
    "                coeficiente_de_peligro[i][j] = 'X'\n",
    "            else:\n",
    "                coeficiente_de_peligro[i][j] = coeficiente_casilla(i, j)\n",
    "    \n",
    "    # Normaliza los coeficientes a un rango de -4 a +4 para casillas vacías\n",
    "    for i in range(n):\n",
    "        for j in range(n):\n",
    "            if isinstance(coeficiente_de_peligro[i][j], (int, float)):\n",
    "                coeficiente_de_peligro[i][j] = np.clip(coeficiente_de_peligro[i][j], -4, 4)\n",
    "    \n",
    "    return coeficiente_de_peligro\n",
    "\n",
    "# Ejemplo de uso\n",
    "tablero = [\n",
    "    [0, 1, 0, 0],\n",
    "    [2, 0, 0, 0],\n",
    "    [0, 2, 1, 0],\n",
    "    [2, 0, 0, 2]\n",
    "]\n",
    "\n",
    "jugador = 1\n",
    "coef_peligro = calcular_coeficiente_de_peligro(tablero, jugador)\n",
    "print(coef_peligro)\n"
   ]
  },
  {
   "cell_type": "code",
   "execution_count": 4,
   "metadata": {},
   "outputs": [
    {
     "name": "stdout",
     "output_type": "stream",
     "text": [
      "[[0 'O' -1 0]\n",
      " ['X' 1 -1 0]\n",
      " [3 'X' 'O' 0]\n",
      " ['X' 2 0 'X']]\n"
     ]
    }
   ],
   "source": [
    "jugador = 2\n",
    "coef_peligro = calcular_coeficiente_de_peligro(tablero, jugador)\n",
    "print(coef_peligro)"
   ]
  }
 ],
 "metadata": {
  "kernelspec": {
   "display_name": "base",
   "language": "python",
   "name": "python3"
  },
  "language_info": {
   "codemirror_mode": {
    "name": "ipython",
    "version": 3
   },
   "file_extension": ".py",
   "mimetype": "text/x-python",
   "name": "python",
   "nbconvert_exporter": "python",
   "pygments_lexer": "ipython3",
   "version": "3.11.5"
  }
 },
 "nbformat": 4,
 "nbformat_minor": 2
}
